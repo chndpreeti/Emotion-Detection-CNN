{
  "cells": [
    {
      "cell_type": "code",
      "execution_count": 9,
      "metadata": {
        "colab": {
          "base_uri": "https://localhost:8080/"
        },
        "id": "9lXhbYn2STFX",
        "outputId": "33cb813f-9939-4adc-88c7-ab0aab2e453d"
      },
      "outputs": [
        {
          "output_type": "execute_result",
          "data": {
            "text/plain": [
              "[name: \"/device:CPU:0\"\n",
              " device_type: \"CPU\"\n",
              " memory_limit: 268435456\n",
              " locality {\n",
              " }\n",
              " incarnation: 5219858734080226235\n",
              " xla_global_id: -1, name: \"/device:GPU:0\"\n",
              " device_type: \"GPU\"\n",
              " memory_limit: 14465892352\n",
              " locality {\n",
              "   bus_id: 1\n",
              "   links {\n",
              "   }\n",
              " }\n",
              " incarnation: 1292926252917017191\n",
              " physical_device_desc: \"device: 0, name: Tesla T4, pci bus id: 0000:00:04.0, compute capability: 7.5\"\n",
              " xla_global_id: 416903419]"
            ]
          },
          "metadata": {},
          "execution_count": 9
        }
      ],
      "source": [
        "from tensorflow.python.client import device_lib\n",
        "device_lib.list_local_devices()"
      ]
    },
    {
      "cell_type": "code",
      "source": [
        " !unzip archive.zip"
      ],
      "metadata": {
        "id": "syk8gaRfs_GW",
        "colab": {
          "base_uri": "https://localhost:8080/"
        },
        "outputId": "124ddafb-0190-4336-f313-3cd602cc14e5"
      },
      "execution_count": 10,
      "outputs": [
        {
          "output_type": "stream",
          "name": "stdout",
          "text": [
            "Archive:  archive.zip\n",
            "replace test/angry/PrivateTest_10131363.jpg? [y]es, [n]o, [A]ll, [N]one, [r]ename: "
          ]
        }
      ]
    },
    {
      "cell_type": "code",
      "execution_count": 11,
      "metadata": {
        "colab": {
          "base_uri": "https://localhost:8080/",
          "height": 35
        },
        "id": "EIEjoSBNTO-Q",
        "outputId": "621dfea9-3f38-4203-aa8f-0fdba637e1a5"
      },
      "outputs": [
        {
          "output_type": "execute_result",
          "data": {
            "text/plain": [
              "'/device:GPU:0'"
            ],
            "application/vnd.google.colaboratory.intrinsic+json": {
              "type": "string"
            }
          },
          "metadata": {},
          "execution_count": 11
        }
      ],
      "source": [
        "import tensorflow as tf\n",
        "tf.test.gpu_device_name()"
      ]
    },
    {
      "cell_type": "code",
      "execution_count": 12,
      "metadata": {
        "id": "cndOWXbmTgw8"
      },
      "outputs": [],
      "source": [
        "import pandas as pd\n",
        "import os\n",
        "import glob as gb\n",
        "from tensorflow import keras\n",
        "\n",
        "from keras.models import Sequential\n",
        "from keras.layers import Conv2D\n",
        "from keras.layers import MaxPooling2D\n",
        "from keras.layers import Flatten\n",
        "from keras.layers import Dense"
      ]
    },
    {
      "cell_type": "code",
      "execution_count": 13,
      "metadata": {
        "id": "_67T51WDTkdN"
      },
      "outputs": [],
      "source": [
        "TRAIN_DIR = \"/content/train\"\n",
        "TEST_DIR = \"/content/test\"\n",
        "BATCH_SIZE = 64\n"
      ]
    },
    {
      "cell_type": "code",
      "execution_count": 14,
      "metadata": {
        "colab": {
          "base_uri": "https://localhost:8080/"
        },
        "id": "pP0tL39XTnBF",
        "outputId": "c835c786-f7be-4eff-ef2f-b7a3254b22a1"
      },
      "outputs": [
        {
          "output_type": "stream",
          "name": "stdout",
          "text": [
            "For training data, found 4830 in folder sad\n",
            "For training data, found 436 in folder disgust\n",
            "For training data, found 7215 in folder happy\n",
            "For training data, found 3995 in folder angry\n",
            "For training data, found 4097 in folder fear\n",
            "For training data, found 4965 in folder neutral\n",
            "For training data, found 3171 in folder surprise\n"
          ]
        }
      ],
      "source": [
        "for folder in os.listdir(TRAIN_DIR):\n",
        "    files = gb.glob(pathname= str(TRAIN_DIR+ '/'+ folder + '/*.jpg'))\n",
        "    print(f'For training data, found {len(files)} in folder {folder}')"
      ]
    },
    {
      "cell_type": "code",
      "execution_count": 15,
      "metadata": {
        "colab": {
          "base_uri": "https://localhost:8080/"
        },
        "id": "P7RsE-TgTkoB",
        "outputId": "7077d5f1-167e-4d80-86af-81a5ab11b853"
      },
      "outputs": [
        {
          "output_type": "stream",
          "name": "stdout",
          "text": [
            "For testing data, found 1247 in folder sad\n",
            "For testing data, found 111 in folder disgust\n",
            "For testing data, found 1774 in folder happy\n",
            "For testing data, found 958 in folder angry\n",
            "For testing data, found 1024 in folder fear\n",
            "For testing data, found 1233 in folder neutral\n",
            "For testing data, found 831 in folder surprise\n"
          ]
        }
      ],
      "source": [
        "for folder in os.listdir(TEST_DIR):\n",
        "    files = gb.glob(pathname= str(TEST_DIR+ '/'+ folder + '/*.jpg'))\n",
        "    print(f'For testing data, found {len(files)} in folder {folder}')"
      ]
    },
    {
      "cell_type": "code",
      "execution_count": 16,
      "metadata": {
        "id": "qQPwDl_ATr-K"
      },
      "outputs": [],
      "source": [
        "from keras.preprocessing.image import ImageDataGenerator\n",
        "\n",
        "train_datagen = ImageDataGenerator(rescale = 1./255,\n",
        "                                   shear_range = 0.2,\n",
        "                                   zoom_range = 0.2,\n",
        "                                   horizontal_flip = True)\n",
        "\n",
        "test_datagen = ImageDataGenerator(rescale = 1./255)"
      ]
    },
    {
      "cell_type": "code",
      "execution_count": 17,
      "metadata": {
        "colab": {
          "base_uri": "https://localhost:8080/"
        },
        "id": "I9CYqBQ_Tum0",
        "outputId": "ab9913ca-e353-4b7b-a376-09ae33ddc808"
      },
      "outputs": [
        {
          "output_type": "stream",
          "name": "stdout",
          "text": [
            "Found 28709 images belonging to 7 classes.\n",
            "Found 7178 images belonging to 7 classes.\n"
          ]
        }
      ],
      "source": [
        "training_set = train_datagen.flow_from_directory(TRAIN_DIR,\n",
        "                                                 target_size = (48, 48),\n",
        "                                                 batch_size = BATCH_SIZE,\n",
        "                                                 color_mode=\"grayscale\",\n",
        "                                                 class_mode = 'categorical')\n",
        "\n",
        "test_set = test_datagen.flow_from_directory(TEST_DIR,\n",
        "                                            target_size = (48, 48),\n",
        "                                            batch_size = BATCH_SIZE,\n",
        "                                            color_mode=\"grayscale\",\n",
        "                                            class_mode = 'categorical')"
      ]
    },
    {
      "cell_type": "code",
      "source": [
        "test_set"
      ],
      "metadata": {
        "id": "o2W0lW13iFW1",
        "colab": {
          "base_uri": "https://localhost:8080/"
        },
        "outputId": "af6e889c-0d8b-4367-ad2e-1d6517e1d31d"
      },
      "execution_count": 18,
      "outputs": [
        {
          "output_type": "execute_result",
          "data": {
            "text/plain": [
              "<keras.preprocessing.image.DirectoryIterator at 0x7fbbda94e650>"
            ]
          },
          "metadata": {},
          "execution_count": 18
        }
      ]
    },
    {
      "cell_type": "code",
      "execution_count": 19,
      "metadata": {
        "id": "HW2MrflkTyuG"
      },
      "outputs": [],
      "source": [
        "from keras.layers import Conv2D, Dense, BatchNormalization, Activation, Dropout, MaxPooling2D, Flatten"
      ]
    },
    {
      "cell_type": "code",
      "execution_count": 20,
      "metadata": {
        "id": "Se0E8UiBTkwF"
      },
      "outputs": [],
      "source": [
        "# create model structure\n",
        "emotion_model = Sequential()\n",
        "\n",
        "emotion_model.add(Conv2D(32, kernel_size=(3, 3), activation='relu', input_shape=(48, 48, 1)))\n",
        "emotion_model.add(Conv2D(64, kernel_size=(3, 3), activation='relu'))\n",
        "emotion_model.add(MaxPooling2D(pool_size=(2, 2)))\n",
        "emotion_model.add(Dropout(0.25))\n",
        "\n",
        "emotion_model.add(Conv2D(128, kernel_size=(3, 3), activation='relu'))\n",
        "emotion_model.add(MaxPooling2D(pool_size=(2, 2)))\n",
        "emotion_model.add(Conv2D(128, kernel_size=(3, 3), activation='relu'))\n",
        "emotion_model.add(MaxPooling2D(pool_size=(2, 2)))\n",
        "emotion_model.add(Dropout(0.25))\n",
        "\n",
        "emotion_model.add(Flatten())\n",
        "emotion_model.add(Dense(1024, activation='relu'))\n",
        "emotion_model.add(Dropout(0.5))\n",
        "emotion_model.add(Dense(7, activation='softmax'))"
      ]
    },
    {
      "cell_type": "markdown",
      "source": [
        ""
      ],
      "metadata": {
        "id": "WZZzcBDNkqhI"
      }
    },
    {
      "cell_type": "code",
      "execution_count": 21,
      "metadata": {
        "colab": {
          "base_uri": "https://localhost:8080/"
        },
        "id": "F8NfN1uST3aa",
        "outputId": "97bbc628-3f75-419d-da02-5a3708f0603a"
      },
      "outputs": [
        {
          "output_type": "stream",
          "name": "stdout",
          "text": [
            "Model: \"sequential\"\n",
            "_________________________________________________________________\n",
            " Layer (type)                Output Shape              Param #   \n",
            "=================================================================\n",
            " conv2d (Conv2D)             (None, 46, 46, 32)        320       \n",
            "                                                                 \n",
            " conv2d_1 (Conv2D)           (None, 44, 44, 64)        18496     \n",
            "                                                                 \n",
            " max_pooling2d (MaxPooling2D  (None, 22, 22, 64)       0         \n",
            " )                                                               \n",
            "                                                                 \n",
            " dropout (Dropout)           (None, 22, 22, 64)        0         \n",
            "                                                                 \n",
            " conv2d_2 (Conv2D)           (None, 20, 20, 128)       73856     \n",
            "                                                                 \n",
            " max_pooling2d_1 (MaxPooling  (None, 10, 10, 128)      0         \n",
            " 2D)                                                             \n",
            "                                                                 \n",
            " conv2d_3 (Conv2D)           (None, 8, 8, 128)         147584    \n",
            "                                                                 \n",
            " max_pooling2d_2 (MaxPooling  (None, 4, 4, 128)        0         \n",
            " 2D)                                                             \n",
            "                                                                 \n",
            " dropout_1 (Dropout)         (None, 4, 4, 128)         0         \n",
            "                                                                 \n",
            " flatten (Flatten)           (None, 2048)              0         \n",
            "                                                                 \n",
            " dense (Dense)               (None, 1024)              2098176   \n",
            "                                                                 \n",
            " dropout_2 (Dropout)         (None, 1024)              0         \n",
            "                                                                 \n",
            " dense_1 (Dense)             (None, 7)                 7175      \n",
            "                                                                 \n",
            "=================================================================\n",
            "Total params: 2,345,607\n",
            "Trainable params: 2,345,607\n",
            "Non-trainable params: 0\n",
            "_________________________________________________________________\n"
          ]
        }
      ],
      "source": [
        "\n",
        "emotion_model.summary()"
      ]
    },
    {
      "cell_type": "code",
      "execution_count": 22,
      "metadata": {
        "id": "jrRLD0c1T5mO"
      },
      "outputs": [],
      "source": [
        "from tensorflow.python.keras.optimizers import *"
      ]
    },
    {
      "cell_type": "code",
      "execution_count": 23,
      "metadata": {
        "id": "MtizxuYsT5tc"
      },
      "outputs": [],
      "source": [
        "from tensorflow.keras.optimizers import Adam"
      ]
    },
    {
      "cell_type": "code",
      "execution_count": 24,
      "metadata": {
        "id": "vLCD1Y_sT5yE"
      },
      "outputs": [],
      "source": [
        "emotion_model.compile(loss='categorical_crossentropy', optimizer=Adam(learning_rate=0.0001, decay=1e-6), metrics=['accuracy'])"
      ]
    },
    {
      "cell_type": "code",
      "execution_count": 26,
      "metadata": {
        "colab": {
          "base_uri": "https://localhost:8080/"
        },
        "id": "bUNrgw-5T54o",
        "outputId": "4c20db23-cb78-47fc-8acc-ed70a1439ae5"
      },
      "outputs": [
        {
          "output_type": "stream",
          "name": "stdout",
          "text": [
            "Epoch 1/100\n",
            "448/448 [==============================] - 18s 41ms/step - loss: 1.8024 - accuracy: 0.2560 - val_loss: 1.7304 - val_accuracy: 0.3224\n",
            "Epoch 2/100\n",
            "448/448 [==============================] - 18s 40ms/step - loss: 1.6700 - accuracy: 0.3411 - val_loss: 1.5868 - val_accuracy: 0.3863\n",
            "Epoch 3/100\n",
            "448/448 [==============================] - 18s 40ms/step - loss: 1.6014 - accuracy: 0.3777 - val_loss: 1.5196 - val_accuracy: 0.4213\n",
            "Epoch 4/100\n",
            "448/448 [==============================] - 18s 40ms/step - loss: 1.5479 - accuracy: 0.4010 - val_loss: 1.4526 - val_accuracy: 0.4396\n",
            "Epoch 5/100\n",
            "448/448 [==============================] - 18s 40ms/step - loss: 1.5054 - accuracy: 0.4236 - val_loss: 1.4106 - val_accuracy: 0.4587\n",
            "Epoch 6/100\n",
            "448/448 [==============================] - 18s 40ms/step - loss: 1.4626 - accuracy: 0.4407 - val_loss: 1.3671 - val_accuracy: 0.4787\n",
            "Epoch 7/100\n",
            "448/448 [==============================] - 18s 40ms/step - loss: 1.4227 - accuracy: 0.4527 - val_loss: 1.3316 - val_accuracy: 0.4950\n",
            "Epoch 8/100\n",
            "448/448 [==============================] - 18s 40ms/step - loss: 1.3908 - accuracy: 0.4678 - val_loss: 1.3219 - val_accuracy: 0.4941\n",
            "Epoch 9/100\n",
            "448/448 [==============================] - 18s 40ms/step - loss: 1.3596 - accuracy: 0.4833 - val_loss: 1.2630 - val_accuracy: 0.5246\n",
            "Epoch 10/100\n",
            "448/448 [==============================] - 18s 40ms/step - loss: 1.3339 - accuracy: 0.4943 - val_loss: 1.2522 - val_accuracy: 0.5275\n",
            "Epoch 11/100\n",
            "448/448 [==============================] - 18s 40ms/step - loss: 1.3067 - accuracy: 0.5046 - val_loss: 1.2331 - val_accuracy: 0.5336\n",
            "Epoch 12/100\n",
            "448/448 [==============================] - 18s 40ms/step - loss: 1.2864 - accuracy: 0.5140 - val_loss: 1.2164 - val_accuracy: 0.5370\n",
            "Epoch 13/100\n",
            "448/448 [==============================] - 18s 40ms/step - loss: 1.2709 - accuracy: 0.5167 - val_loss: 1.1876 - val_accuracy: 0.5498\n",
            "Epoch 14/100\n",
            "448/448 [==============================] - 18s 40ms/step - loss: 1.2455 - accuracy: 0.5284 - val_loss: 1.1851 - val_accuracy: 0.5530\n",
            "Epoch 15/100\n",
            "448/448 [==============================] - 18s 40ms/step - loss: 1.2292 - accuracy: 0.5345 - val_loss: 1.1609 - val_accuracy: 0.5575\n",
            "Epoch 16/100\n",
            "448/448 [==============================] - 18s 40ms/step - loss: 1.2177 - accuracy: 0.5397 - val_loss: 1.1493 - val_accuracy: 0.5650\n",
            "Epoch 17/100\n",
            "448/448 [==============================] - 18s 40ms/step - loss: 1.2095 - accuracy: 0.5412 - val_loss: 1.1500 - val_accuracy: 0.5645\n",
            "Epoch 18/100\n",
            "448/448 [==============================] - 18s 40ms/step - loss: 1.1937 - accuracy: 0.5520 - val_loss: 1.1361 - val_accuracy: 0.5720\n",
            "Epoch 19/100\n",
            "448/448 [==============================] - 18s 40ms/step - loss: 1.1747 - accuracy: 0.5567 - val_loss: 1.1288 - val_accuracy: 0.5705\n",
            "Epoch 20/100\n",
            "448/448 [==============================] - 18s 40ms/step - loss: 1.1658 - accuracy: 0.5600 - val_loss: 1.1122 - val_accuracy: 0.5829\n",
            "Epoch 21/100\n",
            "448/448 [==============================] - 18s 40ms/step - loss: 1.1534 - accuracy: 0.5624 - val_loss: 1.1092 - val_accuracy: 0.5834\n",
            "Epoch 22/100\n",
            "448/448 [==============================] - 18s 40ms/step - loss: 1.1461 - accuracy: 0.5684 - val_loss: 1.1105 - val_accuracy: 0.5876\n",
            "Epoch 23/100\n",
            "448/448 [==============================] - 18s 40ms/step - loss: 1.1360 - accuracy: 0.5729 - val_loss: 1.0990 - val_accuracy: 0.5918\n",
            "Epoch 24/100\n",
            "448/448 [==============================] - 18s 40ms/step - loss: 1.1215 - accuracy: 0.5771 - val_loss: 1.0888 - val_accuracy: 0.5915\n",
            "Epoch 25/100\n",
            "448/448 [==============================] - 18s 40ms/step - loss: 1.1129 - accuracy: 0.5794 - val_loss: 1.0901 - val_accuracy: 0.5910\n",
            "Epoch 26/100\n",
            "448/448 [==============================] - 18s 40ms/step - loss: 1.1055 - accuracy: 0.5837 - val_loss: 1.0811 - val_accuracy: 0.5967\n",
            "Epoch 27/100\n",
            "448/448 [==============================] - 18s 40ms/step - loss: 1.0986 - accuracy: 0.5862 - val_loss: 1.0765 - val_accuracy: 0.5938\n",
            "Epoch 28/100\n",
            "448/448 [==============================] - 18s 40ms/step - loss: 1.0877 - accuracy: 0.5947 - val_loss: 1.0821 - val_accuracy: 0.5925\n",
            "Epoch 29/100\n",
            "448/448 [==============================] - 18s 40ms/step - loss: 1.0805 - accuracy: 0.5944 - val_loss: 1.0720 - val_accuracy: 0.5999\n",
            "Epoch 30/100\n",
            "448/448 [==============================] - 18s 40ms/step - loss: 1.0717 - accuracy: 0.6008 - val_loss: 1.0621 - val_accuracy: 0.6037\n",
            "Epoch 31/100\n",
            "448/448 [==============================] - 18s 40ms/step - loss: 1.0682 - accuracy: 0.5991 - val_loss: 1.0596 - val_accuracy: 0.6051\n",
            "Epoch 32/100\n",
            "448/448 [==============================] - 18s 40ms/step - loss: 1.0590 - accuracy: 0.6015 - val_loss: 1.0534 - val_accuracy: 0.6098\n",
            "Epoch 33/100\n",
            "448/448 [==============================] - 18s 40ms/step - loss: 1.0454 - accuracy: 0.6104 - val_loss: 1.0473 - val_accuracy: 0.6127\n",
            "Epoch 34/100\n",
            "448/448 [==============================] - 18s 40ms/step - loss: 1.0422 - accuracy: 0.6079 - val_loss: 1.0453 - val_accuracy: 0.6134\n",
            "Epoch 35/100\n",
            "448/448 [==============================] - 18s 40ms/step - loss: 1.0333 - accuracy: 0.6115 - val_loss: 1.0525 - val_accuracy: 0.6076\n",
            "Epoch 36/100\n",
            "448/448 [==============================] - 18s 40ms/step - loss: 1.0275 - accuracy: 0.6161 - val_loss: 1.0370 - val_accuracy: 0.6154\n",
            "Epoch 37/100\n",
            "448/448 [==============================] - 18s 40ms/step - loss: 1.0213 - accuracy: 0.6160 - val_loss: 1.0345 - val_accuracy: 0.6172\n",
            "Epoch 38/100\n",
            "448/448 [==============================] - 18s 40ms/step - loss: 1.0146 - accuracy: 0.6195 - val_loss: 1.0340 - val_accuracy: 0.6182\n",
            "Epoch 39/100\n",
            "448/448 [==============================] - 18s 40ms/step - loss: 0.9982 - accuracy: 0.6253 - val_loss: 1.0284 - val_accuracy: 0.6194\n",
            "Epoch 40/100\n",
            "448/448 [==============================] - 18s 40ms/step - loss: 0.9994 - accuracy: 0.6289 - val_loss: 1.0336 - val_accuracy: 0.6218\n",
            "Epoch 41/100\n",
            "448/448 [==============================] - 18s 40ms/step - loss: 0.9923 - accuracy: 0.6286 - val_loss: 1.0293 - val_accuracy: 0.6165\n",
            "Epoch 42/100\n",
            "448/448 [==============================] - 18s 40ms/step - loss: 0.9876 - accuracy: 0.6318 - val_loss: 1.0224 - val_accuracy: 0.6261\n",
            "Epoch 43/100\n",
            "448/448 [==============================] - 18s 40ms/step - loss: 0.9805 - accuracy: 0.6353 - val_loss: 1.0212 - val_accuracy: 0.6247\n",
            "Epoch 44/100\n",
            "448/448 [==============================] - 18s 40ms/step - loss: 0.9734 - accuracy: 0.6377 - val_loss: 1.0153 - val_accuracy: 0.6272\n",
            "Epoch 45/100\n",
            "448/448 [==============================] - 18s 40ms/step - loss: 0.9591 - accuracy: 0.6422 - val_loss: 1.0238 - val_accuracy: 0.6254\n",
            "Epoch 46/100\n",
            "448/448 [==============================] - 18s 40ms/step - loss: 0.9609 - accuracy: 0.6415 - val_loss: 1.0085 - val_accuracy: 0.6334\n",
            "Epoch 47/100\n",
            "448/448 [==============================] - 18s 40ms/step - loss: 0.9518 - accuracy: 0.6442 - val_loss: 1.0201 - val_accuracy: 0.6221\n",
            "Epoch 48/100\n",
            "448/448 [==============================] - 18s 40ms/step - loss: 0.9498 - accuracy: 0.6479 - val_loss: 1.0071 - val_accuracy: 0.6323\n",
            "Epoch 49/100\n",
            "448/448 [==============================] - 18s 40ms/step - loss: 0.9448 - accuracy: 0.6475 - val_loss: 1.0094 - val_accuracy: 0.6317\n",
            "Epoch 50/100\n",
            "448/448 [==============================] - 18s 40ms/step - loss: 0.9453 - accuracy: 0.6484 - val_loss: 1.0021 - val_accuracy: 0.6317\n",
            "Epoch 51/100\n",
            "448/448 [==============================] - 18s 40ms/step - loss: 0.9272 - accuracy: 0.6577 - val_loss: 1.0015 - val_accuracy: 0.6324\n",
            "Epoch 52/100\n",
            "448/448 [==============================] - 18s 40ms/step - loss: 0.9271 - accuracy: 0.6552 - val_loss: 0.9991 - val_accuracy: 0.6392\n",
            "Epoch 53/100\n",
            "448/448 [==============================] - 18s 40ms/step - loss: 0.9193 - accuracy: 0.6591 - val_loss: 0.9970 - val_accuracy: 0.6394\n",
            "Epoch 54/100\n",
            "448/448 [==============================] - 18s 40ms/step - loss: 0.9104 - accuracy: 0.6627 - val_loss: 1.0046 - val_accuracy: 0.6346\n",
            "Epoch 55/100\n",
            "448/448 [==============================] - 18s 40ms/step - loss: 0.9037 - accuracy: 0.6648 - val_loss: 1.0030 - val_accuracy: 0.6401\n",
            "Epoch 56/100\n",
            "448/448 [==============================] - 18s 40ms/step - loss: 0.9057 - accuracy: 0.6623 - val_loss: 0.9918 - val_accuracy: 0.6401\n",
            "Epoch 57/100\n",
            "448/448 [==============================] - 18s 40ms/step - loss: 0.8961 - accuracy: 0.6672 - val_loss: 0.9980 - val_accuracy: 0.6374\n",
            "Epoch 58/100\n",
            "448/448 [==============================] - 18s 40ms/step - loss: 0.8880 - accuracy: 0.6706 - val_loss: 0.9941 - val_accuracy: 0.6401\n",
            "Epoch 59/100\n",
            "448/448 [==============================] - 18s 40ms/step - loss: 0.8812 - accuracy: 0.6715 - val_loss: 0.9919 - val_accuracy: 0.6362\n",
            "Epoch 60/100\n",
            "448/448 [==============================] - 18s 40ms/step - loss: 0.8761 - accuracy: 0.6719 - val_loss: 0.9910 - val_accuracy: 0.6459\n",
            "Epoch 61/100\n",
            "448/448 [==============================] - 18s 40ms/step - loss: 0.8718 - accuracy: 0.6809 - val_loss: 1.0013 - val_accuracy: 0.6398\n",
            "Epoch 62/100\n",
            "448/448 [==============================] - 18s 40ms/step - loss: 0.8700 - accuracy: 0.6811 - val_loss: 0.9886 - val_accuracy: 0.6438\n",
            "Epoch 63/100\n",
            "448/448 [==============================] - 18s 40ms/step - loss: 0.8594 - accuracy: 0.6826 - val_loss: 0.9921 - val_accuracy: 0.6398\n",
            "Epoch 64/100\n",
            "448/448 [==============================] - 18s 40ms/step - loss: 0.8533 - accuracy: 0.6840 - val_loss: 0.9859 - val_accuracy: 0.6475\n",
            "Epoch 65/100\n",
            "448/448 [==============================] - 18s 40ms/step - loss: 0.8553 - accuracy: 0.6880 - val_loss: 0.9837 - val_accuracy: 0.6433\n",
            "Epoch 66/100\n",
            "448/448 [==============================] - 18s 40ms/step - loss: 0.8431 - accuracy: 0.6897 - val_loss: 0.9833 - val_accuracy: 0.6433\n",
            "Epoch 67/100\n",
            "448/448 [==============================] - 18s 40ms/step - loss: 0.8389 - accuracy: 0.6889 - val_loss: 0.9963 - val_accuracy: 0.6343\n",
            "Epoch 68/100\n",
            "448/448 [==============================] - 18s 40ms/step - loss: 0.8398 - accuracy: 0.6900 - val_loss: 0.9831 - val_accuracy: 0.6423\n",
            "Epoch 69/100\n",
            "448/448 [==============================] - 18s 40ms/step - loss: 0.8300 - accuracy: 0.6942 - val_loss: 0.9875 - val_accuracy: 0.6440\n",
            "Epoch 70/100\n",
            "448/448 [==============================] - 18s 40ms/step - loss: 0.8263 - accuracy: 0.6917 - val_loss: 0.9858 - val_accuracy: 0.6454\n",
            "Epoch 71/100\n",
            "448/448 [==============================] - 18s 40ms/step - loss: 0.8177 - accuracy: 0.6953 - val_loss: 0.9779 - val_accuracy: 0.6469\n",
            "Epoch 72/100\n",
            "448/448 [==============================] - 18s 39ms/step - loss: 0.8153 - accuracy: 0.6982 - val_loss: 0.9806 - val_accuracy: 0.6476\n",
            "Epoch 73/100\n",
            "448/448 [==============================] - 18s 40ms/step - loss: 0.8040 - accuracy: 0.7013 - val_loss: 0.9774 - val_accuracy: 0.6490\n",
            "Epoch 74/100\n",
            "448/448 [==============================] - 18s 40ms/step - loss: 0.8053 - accuracy: 0.7016 - val_loss: 0.9910 - val_accuracy: 0.6429\n",
            "Epoch 75/100\n",
            "448/448 [==============================] - 18s 40ms/step - loss: 0.7969 - accuracy: 0.7056 - val_loss: 0.9767 - val_accuracy: 0.6494\n",
            "Epoch 76/100\n",
            "448/448 [==============================] - 18s 40ms/step - loss: 0.7933 - accuracy: 0.7086 - val_loss: 0.9805 - val_accuracy: 0.6463\n",
            "Epoch 77/100\n",
            "448/448 [==============================] - 18s 40ms/step - loss: 0.7843 - accuracy: 0.7106 - val_loss: 0.9837 - val_accuracy: 0.6438\n",
            "Epoch 78/100\n",
            "448/448 [==============================] - 18s 40ms/step - loss: 0.7878 - accuracy: 0.7083 - val_loss: 0.9809 - val_accuracy: 0.6537\n",
            "Epoch 79/100\n",
            "448/448 [==============================] - 18s 39ms/step - loss: 0.7781 - accuracy: 0.7144 - val_loss: 0.9796 - val_accuracy: 0.6489\n",
            "Epoch 80/100\n",
            "448/448 [==============================] - 18s 40ms/step - loss: 0.7800 - accuracy: 0.7115 - val_loss: 0.9839 - val_accuracy: 0.6476\n",
            "Epoch 81/100\n",
            "448/448 [==============================] - 18s 40ms/step - loss: 0.7699 - accuracy: 0.7178 - val_loss: 0.9790 - val_accuracy: 0.6501\n",
            "Epoch 82/100\n",
            "448/448 [==============================] - 18s 39ms/step - loss: 0.7675 - accuracy: 0.7176 - val_loss: 0.9761 - val_accuracy: 0.6505\n",
            "Epoch 83/100\n",
            "448/448 [==============================] - 18s 40ms/step - loss: 0.7567 - accuracy: 0.7213 - val_loss: 0.9802 - val_accuracy: 0.6518\n",
            "Epoch 84/100\n",
            "448/448 [==============================] - 18s 40ms/step - loss: 0.7522 - accuracy: 0.7226 - val_loss: 0.9870 - val_accuracy: 0.6465\n",
            "Epoch 85/100\n",
            "448/448 [==============================] - 18s 40ms/step - loss: 0.7591 - accuracy: 0.7194 - val_loss: 0.9796 - val_accuracy: 0.6509\n",
            "Epoch 86/100\n",
            "448/448 [==============================] - 18s 39ms/step - loss: 0.7575 - accuracy: 0.7256 - val_loss: 0.9765 - val_accuracy: 0.6490\n",
            "Epoch 87/100\n",
            "448/448 [==============================] - 18s 40ms/step - loss: 0.7446 - accuracy: 0.7252 - val_loss: 0.9792 - val_accuracy: 0.6496\n",
            "Epoch 88/100\n",
            "448/448 [==============================] - 18s 39ms/step - loss: 0.7354 - accuracy: 0.7288 - val_loss: 0.9892 - val_accuracy: 0.6505\n",
            "Epoch 89/100\n",
            "448/448 [==============================] - 18s 40ms/step - loss: 0.7355 - accuracy: 0.7291 - val_loss: 0.9766 - val_accuracy: 0.6542\n",
            "Epoch 90/100\n",
            "448/448 [==============================] - 18s 40ms/step - loss: 0.7304 - accuracy: 0.7272 - val_loss: 0.9795 - val_accuracy: 0.6535\n",
            "Epoch 91/100\n",
            "448/448 [==============================] - 18s 40ms/step - loss: 0.7216 - accuracy: 0.7378 - val_loss: 0.9904 - val_accuracy: 0.6489\n",
            "Epoch 92/100\n",
            "448/448 [==============================] - 18s 40ms/step - loss: 0.7269 - accuracy: 0.7330 - val_loss: 0.9877 - val_accuracy: 0.6518\n",
            "Epoch 93/100\n",
            "448/448 [==============================] - 18s 40ms/step - loss: 0.7173 - accuracy: 0.7343 - val_loss: 0.9755 - val_accuracy: 0.6557\n",
            "Epoch 94/100\n",
            "448/448 [==============================] - 18s 41ms/step - loss: 0.7142 - accuracy: 0.7355 - val_loss: 0.9859 - val_accuracy: 0.6542\n",
            "Epoch 95/100\n",
            "448/448 [==============================] - 18s 40ms/step - loss: 0.7148 - accuracy: 0.7320 - val_loss: 0.9815 - val_accuracy: 0.6562\n",
            "Epoch 96/100\n",
            "448/448 [==============================] - 18s 39ms/step - loss: 0.6980 - accuracy: 0.7433 - val_loss: 0.9892 - val_accuracy: 0.6574\n",
            "Epoch 97/100\n",
            "448/448 [==============================] - 18s 40ms/step - loss: 0.7090 - accuracy: 0.7394 - val_loss: 0.9789 - val_accuracy: 0.6564\n",
            "Epoch 98/100\n",
            "448/448 [==============================] - 18s 40ms/step - loss: 0.6972 - accuracy: 0.7431 - val_loss: 0.9812 - val_accuracy: 0.6536\n",
            "Epoch 99/100\n",
            "448/448 [==============================] - 18s 40ms/step - loss: 0.6972 - accuracy: 0.7446 - val_loss: 0.9919 - val_accuracy: 0.6554\n",
            "Epoch 100/100\n",
            "448/448 [==============================] - 18s 40ms/step - loss: 0.6929 - accuracy: 0.7430 - val_loss: 0.9883 - val_accuracy: 0.6581\n"
          ]
        }
      ],
      "source": [
        "# Train the neural network/model\n",
        "emotion_model_info = emotion_model.fit(\n",
        "        training_set,\n",
        "        steps_per_epoch=28709 // BATCH_SIZE,\n",
        "        epochs=100,\n",
        "        validation_data=test_set,\n",
        "        validation_steps= 7178 // BATCH_SIZE)"
      ]
    },
    {
      "cell_type": "code",
      "source": [
        "train_loss,train_accu = emotion_model.evaluate(training_set)\n",
        "test_loss, test_accu = emotion_model.evaluate(test_set)\n",
        "print(\"final train accuracy = {:.2f} , validation accuracy = {:.2f}\".format(train_accu*100, test_accu*100))"
      ],
      "metadata": {
        "id": "xVGyitz2nKy6",
        "colab": {
          "base_uri": "https://localhost:8080/"
        },
        "outputId": "be833dfc-684c-4d1e-bd84-adb44366aa55"
      },
      "execution_count": 27,
      "outputs": [
        {
          "output_type": "stream",
          "name": "stdout",
          "text": [
            "449/449 [==============================] - 16s 36ms/step - loss: 0.4865 - accuracy: 0.8576\n",
            "113/113 [==============================] - 2s 16ms/step - loss: 0.9880 - accuracy: 0.6580\n",
            "final train accuracy = 85.76 , validation accuracy = 65.80\n"
          ]
        }
      ]
    },
    {
      "cell_type": "code",
      "source": [
        "import matplotlib.pyplot as plt"
      ],
      "metadata": {
        "id": "-rCJOCOJBi4v"
      },
      "execution_count": 30,
      "outputs": []
    },
    {
      "cell_type": "code",
      "source": [
        "plt.figure(figsize=(14,5))\n",
        "plt.subplot(1,2,2)\n",
        "plt.plot(emotion_model_info.history['accuracy'])\n",
        "plt.plot(emotion_model_info.history['val_accuracy'])\n",
        "plt.title('Model Accuracy')\n",
        "plt.xlabel('Epochs')\n",
        "plt.ylabel('Accuracy')\n",
        "plt.legend(['train', 'test'], loc='upper left')\n",
        "\n",
        "plt.subplot(1,2,1)\n",
        "plt.plot(emotion_model_info.history['loss'])\n",
        "plt.plot(emotion_model_info.history['val_loss'])\n",
        "plt.title('model Loss')\n",
        "plt.xlabel('Epochs')\n",
        "plt.ylabel('Loss')\n",
        "plt.legend(['train', 'test'], loc='upper left')\n",
        "plt.show()"
      ],
      "metadata": {
        "id": "GxgdcfJfqr4f",
        "colab": {
          "base_uri": "https://localhost:8080/",
          "height": 350
        },
        "outputId": "85fb26cf-667d-456b-c794-0fba940ca758"
      },
      "execution_count": 31,
      "outputs": [
        {
          "output_type": "display_data",
          "data": {
            "text/plain": [
              "<Figure size 1008x360 with 2 Axes>"
            ],
            "image/png": "[encoded data removed]"
          },
          "metadata": {
            "needs_background": "light"
          }
        }
      ]
    },
    {
      "cell_type": "code",
      "source": [
        "# save model structure in jason file\n",
        "model_json = emotion_model.to_json()\n",
        "with open(\"emotion_model.json\", \"w\") as json_file:\n",
        "    json_file.write(model_json)\n",
        "\n",
        "# save trained model weight in .h5 file\n",
        "emotion_model.save_weights('emotion_model.h5')"
      ],
      "metadata": {
        "id": "BR5KEptZjnaC"
      },
      "execution_count": 32,
      "outputs": []
    },
    {
      "cell_type": "code",
      "source": [
        "import cv2\n",
        "import numpy as np\n",
        "from keras.models import model_from_json\n",
        "\n",
        "\n",
        "emotion_dict = {0: \"Angry\", 1: \"Disgusted\", 2: \"Fearful\", 3: \"Happy\", 4: \"Neutral\", 5: \"Sad\", 6: \"Surprised\"}\n",
        "\n",
        "# load json and create model\n",
        "json_file = open('emotion_model.json', 'r')\n",
        "loaded_model_json = json_file.read()\n",
        "json_file.close()\n",
        "emotion_model = model_from_json(loaded_model_json)\n",
        "\n",
        "# load weights into new model\n",
        "emotion_model.load_weights(\"emotion_model.h5\")\n",
        "print(\"Loaded model from disk\")"
      ],
      "metadata": {
        "id": "R1__uZJrkbJQ",
        "colab": {
          "base_uri": "https://localhost:8080/"
        },
        "outputId": "f9df822d-5ffb-4a5b-92c8-2ea1f6e82250"
      },
      "execution_count": 33,
      "outputs": [
        {
          "output_type": "stream",
          "name": "stdout",
          "text": [
            "Loaded model from disk\n"
          ]
        }
      ]
    },
    {
      "cell_type": "code",
      "source": [
        "import numpy as np\n",
        "from keras.models import model_from_json\n",
        "import matplotlib.pyplot as plt\n",
        "from keras.preprocessing.image import ImageDataGenerator\n",
        "from sklearn.metrics import confusion_matrix, classification_report,ConfusionMatrixDisplay"
      ],
      "metadata": {
        "id": "MOhtm58Kxu2H"
      },
      "execution_count": 34,
      "outputs": []
    },
    {
      "cell_type": "code",
      "source": [
        "\n",
        "# do prediction on test data\n",
        "predictions = emotion_model.predict_generator(test_set)\n",
        "\n",
        "# see predictions\n",
        "# for result in predictions:\n",
        "#     max_index = int(np.argmax(result))\n",
        "#     print(emotion_dict[max_index])\n",
        "\n",
        "print(\"-----------------------------------------------------------------\")\n",
        "# confusion matrix\n",
        "c_matrix = confusion_matrix(test_set.classes, predictions.argmax(axis=1))\n",
        "print(c_matrix)\n",
        "cm_display = ConfusionMatrixDisplay(confusion_matrix=c_matrix, display_labels=emotion_dict)\n",
        "cm_display.plot(cmap=plt.cm.Blues)\n",
        "plt.show()\n",
        "\n",
        "# Classification report\n",
        "print(\"-----------------------------------------------------------------\")\n",
        "print(classification_report(test_set.classes, predictions.argmax(axis=1)))"
      ],
      "metadata": {
        "colab": {
          "base_uri": "https://localhost:8080/",
          "height": 733
        },
        "id": "bpDRVCOQxL-p",
        "outputId": "b717b9c4-f60e-4d7d-907f-85445facfa64"
      },
      "execution_count": 35,
      "outputs": [
        {
          "output_type": "stream",
          "name": "stderr",
          "text": [
            "/usr/local/lib/python3.7/dist-packages/ipykernel_launcher.py:3: UserWarning: `Model.predict_generator` is deprecated and will be removed in a future version. Please use `Model.predict`, which supports generators.\n",
            "  This is separate from the ipykernel package so we can avoid doing imports until\n"
          ]
        },
        {
          "output_type": "stream",
          "name": "stdout",
          "text": [
            "-----------------------------------------------------------------\n",
            "[[124   6 108 256 210 159  95]\n",
            " [ 11   1  14  31  22  21  11]\n",
            " [144  11 123 258 214 146 128]\n",
            " [251  25 226 422 338 304 208]\n",
            " [177   9 135 330 257 179 146]\n",
            " [163  13 139 310 254 215 153]\n",
            " [118   8 108 201 169 123 104]]\n"
          ]
        },
        {
          "output_type": "display_data",
          "data": {
            "text/plain": [
              "<Figure size 432x288 with 2 Axes>"
            ],
            "image/png": "[encoded data removed]"
          },
          "metadata": {
            "needs_background": "light"
          }
        },
        {
          "output_type": "stream",
          "name": "stdout",
          "text": [
            "-----------------------------------------------------------------\n",
            "              precision    recall  f1-score   support\n",
            "\n",
            "           0       0.13      0.13      0.13       958\n",
            "           1       0.01      0.01      0.01       111\n",
            "           2       0.14      0.12      0.13      1024\n",
            "           3       0.23      0.24      0.24      1774\n",
            "           4       0.18      0.21      0.19      1233\n",
            "           5       0.19      0.17      0.18      1247\n",
            "           6       0.12      0.13      0.12       831\n",
            "\n",
            "    accuracy                           0.17      7178\n",
            "   macro avg       0.14      0.14      0.14      7178\n",
            "weighted avg       0.17      0.17      0.17      7178\n",
            "\n"
          ]
        }
      ]
    },
    {
      "cell_type": "code",
      "source": [
        ""
      ],
      "metadata": {
        "id": "p-6sOIkd0Ab6"
      },
      "execution_count": null,
      "outputs": []
    }
  ],
  "metadata": {
    "accelerator": "GPU",
    "colab": {
      "machine_shape": "hm",
      "name": "Face_Emotion.ipynb",
      "provenance": [],
      "collapsed_sections": []
    },
    "gpuClass": "standard",
    "kernelspec": {
      "display_name": "Python 3",
      "name": "python3"
    },
    "language_info": {
      "name": "python"
    }
  },
  "nbformat": 4,
  "nbformat_minor": 0
}